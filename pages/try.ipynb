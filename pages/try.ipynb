{
 "cells": [
  {
   "cell_type": "code",
   "execution_count": 2,
   "metadata": {
    "collapsed": true
   },
   "outputs": [],
   "source": [
    "import pandas as pd\n",
    "import yfinance as yf"
   ]
  },
  {
   "cell_type": "code",
   "execution_count": 7,
   "outputs": [],
   "source": [
    "nasdaq_screener = pd.read_csv(\"/Users/joeychua/PycharmProjects/public-stocks/data/nasdaq_screener.csv\")"
   ],
   "metadata": {
    "collapsed": false,
    "pycharm": {
     "name": "#%%\n"
    }
   }
  },
  {
   "cell_type": "code",
   "execution_count": 11,
   "outputs": [
    {
     "name": "stderr",
     "output_type": "stream",
     "text": [
      "/var/folders/89/gtj8lc7x46lcnlncmm51crdr0000gp/T/ipykernel_33287/2009471674.py:6: SettingWithCopyWarning: \n",
      "A value is trying to be set on a copy of a slice from a DataFrame.\n",
      "Try using .loc[row_indexer,col_indexer] = value instead\n",
      "\n",
      "See the caveats in the documentation: https://pandas.pydata.org/pandas-docs/stable/user_guide/indexing.html#returning-a-view-versus-a-copy\n",
      "  selected_columns['IPO Year'] = selected_columns['IPO Year'].astype(int, errors=\"ignore\")\n"
     ]
    }
   ],
   "source": [
    "nasdaq_symbols = nasdaq_screener['Symbol'].tolist()\n",
    "\n",
    "# nasdaq data\n",
    "selected_tickers = nasdaq_screener.loc[nasdaq_screener['Symbol'].isin(nasdaq_symbols)]\n",
    "selected_columns = selected_tickers[['Symbol', 'Name', 'IPO Year']]\n",
    "selected_columns['IPO Year'] = selected_columns['IPO Year'].astype(int, errors=\"ignore\")"
   ],
   "metadata": {
    "collapsed": false,
    "pycharm": {
     "name": "#%%\n"
    }
   }
  },
  {
   "cell_type": "code",
   "execution_count": null,
   "outputs": [],
   "source": [
    "# yahoo finance data\n",
    "df = pd.DataFrame()\n",
    "for ticker in nasdaq_symbols:\n",
    "    tick = yf.Ticker(ticker)\n",
    "    tick_info = pd.DataFrame(list(tick.info.items()))\n",
    "    transposed_tick_info = tick_info.T\n",
    "    transposed_tick_info.rename(columns=transposed_tick_info.iloc[0], inplace=True)\n",
    "    transposed_tick_info.drop([0], inplace=True)\n",
    "    transposed_tick_info['Symbol'] = ticker\n",
    "    df = pd.concat([df, transposed_tick_info], ignore_index=True)\n"
   ],
   "metadata": {
    "collapsed": false,
    "pycharm": {
     "name": "#%%\n",
     "is_executing": true
    }
   }
  },
  {
   "cell_type": "code",
   "execution_count": null,
   "outputs": [],
   "source": [
    "final_output = selected_columns.merge(df, how='inner', on='Symbol')\n",
    "print(final_output)"
   ],
   "metadata": {
    "collapsed": false,
    "pycharm": {
     "name": "#%%\n",
     "is_executing": true
    }
   }
  },
  {
   "cell_type": "code",
   "execution_count": null,
   "outputs": [],
   "source": [],
   "metadata": {
    "collapsed": false,
    "pycharm": {
     "name": "#%%\n"
    }
   }
  }
 ],
 "metadata": {
  "kernelspec": {
   "display_name": "Python 3",
   "language": "python",
   "name": "python3"
  },
  "language_info": {
   "codemirror_mode": {
    "name": "ipython",
    "version": 2
   },
   "file_extension": ".py",
   "mimetype": "text/x-python",
   "name": "python",
   "nbconvert_exporter": "python",
   "pygments_lexer": "ipython2",
   "version": "2.7.6"
  }
 },
 "nbformat": 4,
 "nbformat_minor": 0
}